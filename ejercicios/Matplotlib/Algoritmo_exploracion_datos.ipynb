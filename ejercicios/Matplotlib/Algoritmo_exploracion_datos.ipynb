{
 "cells": [
  {
   "cell_type": "markdown",
   "metadata": {},
   "source": [
    "# Algoritmo Exploracion Datos\n",
    "\n",
    "De los datos proporcionados por SCHP, se eligen algunas columnas para trabajar la información \n",
    "y se exploran las relaciones entre los montos registrados por mes, año, mes-año y año-sector. \n",
    "La intención es responder las siguientes preguntas sencillas:\n",
    "\n",
    "* ¿En que anio se registro un mayor monto?\n",
    "* ¿En que mes se tienen la media mas alta de monto?\n",
    "* ¿En que anio y mes se registran los mayores montos?\n",
    "* ¿En que anio y sector se registran los mayores montos?\n",
    "\n",
    "Fuente: [SHCP](http://catalogo.datos.gob.mx/dataset/estadisticas-oportunas-de-finanzas-publicas)"
   ]
  },
  {
   "cell_type": "code",
   "execution_count": 2,
   "metadata": {
    "collapsed": true
   },
   "outputs": [],
   "source": [
    "#%%librerias\n",
    "import matplotlib\n",
    "import numpy as np\n",
    "import matplotlib.pyplot as plt\n",
    "import seaborn as sns\n",
    "import pandas as pd\n",
    "%matplotlib inline"
   ]
  },
  {
   "cell_type": "code",
   "execution_count": 3,
   "metadata": {
    "collapsed": true
   },
   "outputs": [],
   "source": [
    "#%% tipo de grafico\n",
    "plt.rcParams['figure.figsize']=(20,7)"
   ]
  },
  {
   "cell_type": "code",
   "execution_count": 6,
   "metadata": {
    "collapsed": true
   },
   "outputs": [],
   "source": [
    "#%% cargar datos\n",
    "data = pd.read_csv('../../data/ingresos.csv')"
   ]
  },
  {
   "cell_type": "code",
   "execution_count": 7,
   "metadata": {},
   "outputs": [
    {
     "data": {
      "text/html": [
       "<div>\n",
       "<style>\n",
       "    .dataframe thead tr:only-child th {\n",
       "        text-align: right;\n",
       "    }\n",
       "\n",
       "    .dataframe thead th {\n",
       "        text-align: left;\n",
       "    }\n",
       "\n",
       "    .dataframe tbody tr th {\n",
       "        vertical-align: top;\n",
       "    }\n",
       "</style>\n",
       "<table border=\"1\" class=\"dataframe\">\n",
       "  <thead>\n",
       "    <tr style=\"text-align: right;\">\n",
       "      <th></th>\n",
       "      <th>CICLO</th>\n",
       "      <th>MES</th>\n",
       "      <th>CLAVE_DE_CONCEPTO</th>\n",
       "      <th>NOMBRE</th>\n",
       "      <th>TEMA</th>\n",
       "      <th>SUBTEMA</th>\n",
       "      <th>SECTOR</th>\n",
       "      <th>AMBITO</th>\n",
       "      <th>TIPO_DE_INFORMACION</th>\n",
       "      <th>BASE_DE_REGISTRO</th>\n",
       "      <th>UNIDAD_DE_MEDIDA</th>\n",
       "      <th>PERIODO_INICIO</th>\n",
       "      <th>PERIODO_FINAL</th>\n",
       "      <th>FRECUENCIA</th>\n",
       "      <th>DIFUSION</th>\n",
       "      <th>MONTO</th>\n",
       "    </tr>\n",
       "  </thead>\n",
       "  <tbody>\n",
       "    <tr>\n",
       "      <th>0</th>\n",
       "      <td>2011</td>\n",
       "      <td>Enero</td>\n",
       "      <td>XAB2120</td>\n",
       "      <td>Ingresos petroleros del Gobierno Federal</td>\n",
       "      <td>Estad�sticas de Finanzas P�blicas</td>\n",
       "      <td>Ingreso</td>\n",
       "      <td>Sector P�blico Federal Presupuestario</td>\n",
       "      <td>Federal</td>\n",
       "      <td>Flujo</td>\n",
       "      <td>Pagado</td>\n",
       "      <td>Miles de Pesos</td>\n",
       "      <td>1990-01</td>\n",
       "      <td>2014-12</td>\n",
       "      <td>Mensual</td>\n",
       "      <td>30 d�as despu�s del cierre del mes de referencia</td>\n",
       "      <td>71395961.50</td>\n",
       "    </tr>\n",
       "    <tr>\n",
       "      <th>1</th>\n",
       "      <td>2011</td>\n",
       "      <td>Febrero</td>\n",
       "      <td>XAB2120</td>\n",
       "      <td>Ingresos petroleros del Gobierno Federal</td>\n",
       "      <td>Estad�sticas de Finanzas P�blicas</td>\n",
       "      <td>Ingreso</td>\n",
       "      <td>Sector P�blico Federal Presupuestario</td>\n",
       "      <td>Federal</td>\n",
       "      <td>Flujo</td>\n",
       "      <td>Pagado</td>\n",
       "      <td>Miles de Pesos</td>\n",
       "      <td>1990-01</td>\n",
       "      <td>2014-12</td>\n",
       "      <td>Mensual</td>\n",
       "      <td>30 d�as despu�s del cierre del mes de referencia</td>\n",
       "      <td>54388828.94</td>\n",
       "    </tr>\n",
       "    <tr>\n",
       "      <th>2</th>\n",
       "      <td>2011</td>\n",
       "      <td>Marzo</td>\n",
       "      <td>XAB2120</td>\n",
       "      <td>Ingresos petroleros del Gobierno Federal</td>\n",
       "      <td>Estad�sticas de Finanzas P�blicas</td>\n",
       "      <td>Ingreso</td>\n",
       "      <td>Sector P�blico Federal Presupuestario</td>\n",
       "      <td>Federal</td>\n",
       "      <td>Flujo</td>\n",
       "      <td>Pagado</td>\n",
       "      <td>Miles de Pesos</td>\n",
       "      <td>1990-01</td>\n",
       "      <td>2014-12</td>\n",
       "      <td>Mensual</td>\n",
       "      <td>30 d�as despu�s del cierre del mes de referencia</td>\n",
       "      <td>57029276.54</td>\n",
       "    </tr>\n",
       "    <tr>\n",
       "      <th>3</th>\n",
       "      <td>2011</td>\n",
       "      <td>Abril</td>\n",
       "      <td>XAB2120</td>\n",
       "      <td>Ingresos petroleros del Gobierno Federal</td>\n",
       "      <td>Estad�sticas de Finanzas P�blicas</td>\n",
       "      <td>Ingreso</td>\n",
       "      <td>Sector P�blico Federal Presupuestario</td>\n",
       "      <td>Federal</td>\n",
       "      <td>Flujo</td>\n",
       "      <td>Pagado</td>\n",
       "      <td>Miles de Pesos</td>\n",
       "      <td>1990-01</td>\n",
       "      <td>2014-12</td>\n",
       "      <td>Mensual</td>\n",
       "      <td>30 d�as despu�s del cierre del mes de referencia</td>\n",
       "      <td>78204809.99</td>\n",
       "    </tr>\n",
       "    <tr>\n",
       "      <th>4</th>\n",
       "      <td>2011</td>\n",
       "      <td>Mayo</td>\n",
       "      <td>XAB2120</td>\n",
       "      <td>Ingresos petroleros del Gobierno Federal</td>\n",
       "      <td>Estad�sticas de Finanzas P�blicas</td>\n",
       "      <td>Ingreso</td>\n",
       "      <td>Sector P�blico Federal Presupuestario</td>\n",
       "      <td>Federal</td>\n",
       "      <td>Flujo</td>\n",
       "      <td>Pagado</td>\n",
       "      <td>Miles de Pesos</td>\n",
       "      <td>1990-01</td>\n",
       "      <td>2014-12</td>\n",
       "      <td>Mensual</td>\n",
       "      <td>30 d�as despu�s del cierre del mes de referencia</td>\n",
       "      <td>76701991.05</td>\n",
       "    </tr>\n",
       "  </tbody>\n",
       "</table>\n",
       "</div>"
      ],
      "text/plain": [
       "   CICLO      MES CLAVE_DE_CONCEPTO                                    NOMBRE  \\\n",
       "0   2011    Enero           XAB2120  Ingresos petroleros del Gobierno Federal   \n",
       "1   2011  Febrero           XAB2120  Ingresos petroleros del Gobierno Federal   \n",
       "2   2011    Marzo           XAB2120  Ingresos petroleros del Gobierno Federal   \n",
       "3   2011    Abril           XAB2120  Ingresos petroleros del Gobierno Federal   \n",
       "4   2011     Mayo           XAB2120  Ingresos petroleros del Gobierno Federal   \n",
       "\n",
       "                                TEMA  SUBTEMA  \\\n",
       "0  Estad�sticas de Finanzas P�blicas  Ingreso   \n",
       "1  Estad�sticas de Finanzas P�blicas  Ingreso   \n",
       "2  Estad�sticas de Finanzas P�blicas  Ingreso   \n",
       "3  Estad�sticas de Finanzas P�blicas  Ingreso   \n",
       "4  Estad�sticas de Finanzas P�blicas  Ingreso   \n",
       "\n",
       "                                  SECTOR   AMBITO TIPO_DE_INFORMACION  \\\n",
       "0  Sector P�blico Federal Presupuestario  Federal               Flujo   \n",
       "1  Sector P�blico Federal Presupuestario  Federal               Flujo   \n",
       "2  Sector P�blico Federal Presupuestario  Federal               Flujo   \n",
       "3  Sector P�blico Federal Presupuestario  Federal               Flujo   \n",
       "4  Sector P�blico Federal Presupuestario  Federal               Flujo   \n",
       "\n",
       "  BASE_DE_REGISTRO UNIDAD_DE_MEDIDA PERIODO_INICIO PERIODO_FINAL FRECUENCIA  \\\n",
       "0           Pagado   Miles de Pesos        1990-01       2014-12    Mensual   \n",
       "1           Pagado   Miles de Pesos        1990-01       2014-12    Mensual   \n",
       "2           Pagado   Miles de Pesos        1990-01       2014-12    Mensual   \n",
       "3           Pagado   Miles de Pesos        1990-01       2014-12    Mensual   \n",
       "4           Pagado   Miles de Pesos        1990-01       2014-12    Mensual   \n",
       "\n",
       "                                           DIFUSION        MONTO  \n",
       "0  30 d�as despu�s del cierre del mes de referencia  71395961.50  \n",
       "1  30 d�as despu�s del cierre del mes de referencia  54388828.94  \n",
       "2  30 d�as despu�s del cierre del mes de referencia  57029276.54  \n",
       "3  30 d�as despu�s del cierre del mes de referencia  78204809.99  \n",
       "4  30 d�as despu�s del cierre del mes de referencia  76701991.05  "
      ]
     },
     "execution_count": 7,
     "metadata": {},
     "output_type": "execute_result"
    }
   ],
   "source": [
    "#%% checar la informacion\n",
    "data.head()"
   ]
  },
  {
   "cell_type": "code",
   "execution_count": 8,
   "metadata": {},
   "outputs": [
    {
     "data": {
      "text/plain": [
       "(204246, 16)"
      ]
     },
     "execution_count": 8,
     "metadata": {},
     "output_type": "execute_result"
    }
   ],
   "source": [
    "#%% numero de filas y columnas\n",
    "data.shape"
   ]
  },
  {
   "cell_type": "code",
   "execution_count": 9,
   "metadata": {},
   "outputs": [
    {
     "name": "stdout",
     "output_type": "stream",
     "text": [
      "<class 'pandas.core.frame.DataFrame'>\n",
      "RangeIndex: 204246 entries, 0 to 204245\n",
      "Data columns (total 16 columns):\n",
      "CICLO                  204246 non-null int64\n",
      "MES                    204246 non-null object\n",
      "CLAVE_DE_CONCEPTO      204246 non-null object\n",
      "NOMBRE                 204153 non-null object\n",
      "TEMA                   204246 non-null object\n",
      "SUBTEMA                204246 non-null object\n",
      "SECTOR                 204246 non-null object\n",
      "AMBITO                 204246 non-null object\n",
      "TIPO_DE_INFORMACION    204246 non-null object\n",
      "BASE_DE_REGISTRO       204246 non-null object\n",
      "UNIDAD_DE_MEDIDA       204246 non-null object\n",
      "PERIODO_INICIO         204246 non-null object\n",
      "PERIODO_FINAL          204246 non-null object\n",
      "FRECUENCIA             204246 non-null object\n",
      "DIFUSION               204246 non-null object\n",
      "MONTO                  204246 non-null float64\n",
      "dtypes: float64(1), int64(1), object(14)\n",
      "memory usage: 24.9+ MB\n"
     ]
    }
   ],
   "source": [
    "#%% descripcion general de las variables\n",
    "data.info()"
   ]
  },
  {
   "cell_type": "code",
   "execution_count": 10,
   "metadata": {},
   "outputs": [
    {
     "data": {
      "text/plain": [
       "CICLO                    int64\n",
       "MES                     object\n",
       "CLAVE_DE_CONCEPTO       object\n",
       "NOMBRE                  object\n",
       "TEMA                    object\n",
       "SUBTEMA                 object\n",
       "SECTOR                  object\n",
       "AMBITO                  object\n",
       "TIPO_DE_INFORMACION     object\n",
       "BASE_DE_REGISTRO        object\n",
       "UNIDAD_DE_MEDIDA        object\n",
       "PERIODO_INICIO          object\n",
       "PERIODO_FINAL           object\n",
       "FRECUENCIA              object\n",
       "DIFUSION                object\n",
       "MONTO                  float64\n",
       "dtype: object"
      ]
     },
     "execution_count": 10,
     "metadata": {},
     "output_type": "execute_result"
    }
   ],
   "source": [
    "#%% tipo de dato\n",
    "data.dtypes"
   ]
  },
  {
   "cell_type": "code",
   "execution_count": 11,
   "metadata": {},
   "outputs": [
    {
     "data": {
      "text/plain": [
       "Index(['CICLO', 'MES', 'CLAVE_DE_CONCEPTO', 'NOMBRE', 'TEMA', 'SUBTEMA',\n",
       "       'SECTOR', 'AMBITO', 'TIPO_DE_INFORMACION', 'BASE_DE_REGISTRO',\n",
       "       'UNIDAD_DE_MEDIDA', 'PERIODO_INICIO', 'PERIODO_FINAL', 'FRECUENCIA',\n",
       "       'DIFUSION', 'MONTO'],\n",
       "      dtype='object')"
      ]
     },
     "execution_count": 11,
     "metadata": {},
     "output_type": "execute_result"
    }
   ],
   "source": [
    "#%% nombre de las columnas\n",
    "data.columns"
   ]
  },
  {
   "cell_type": "code",
   "execution_count": 12,
   "metadata": {
    "collapsed": true
   },
   "outputs": [],
   "source": [
    "#%% seleccionamos las columnas mas importantes\n",
    "dataP = data[['CICLO','MES','NOMBRE','TEMA','SECTOR','MONTO']]"
   ]
  },
  {
   "cell_type": "code",
   "execution_count": 13,
   "metadata": {},
   "outputs": [
    {
     "data": {
      "text/html": [
       "<div>\n",
       "<style>\n",
       "    .dataframe thead tr:only-child th {\n",
       "        text-align: right;\n",
       "    }\n",
       "\n",
       "    .dataframe thead th {\n",
       "        text-align: left;\n",
       "    }\n",
       "\n",
       "    .dataframe tbody tr th {\n",
       "        vertical-align: top;\n",
       "    }\n",
       "</style>\n",
       "<table border=\"1\" class=\"dataframe\">\n",
       "  <thead>\n",
       "    <tr style=\"text-align: right;\">\n",
       "      <th></th>\n",
       "      <th>CICLO</th>\n",
       "      <th>MES</th>\n",
       "      <th>NOMBRE</th>\n",
       "      <th>TEMA</th>\n",
       "      <th>SECTOR</th>\n",
       "      <th>MONTO</th>\n",
       "    </tr>\n",
       "  </thead>\n",
       "  <tbody>\n",
       "    <tr>\n",
       "      <th>0</th>\n",
       "      <td>2011</td>\n",
       "      <td>Enero</td>\n",
       "      <td>Ingresos petroleros del Gobierno Federal</td>\n",
       "      <td>Estad�sticas de Finanzas P�blicas</td>\n",
       "      <td>Sector P�blico Federal Presupuestario</td>\n",
       "      <td>71395961.50</td>\n",
       "    </tr>\n",
       "    <tr>\n",
       "      <th>1</th>\n",
       "      <td>2011</td>\n",
       "      <td>Febrero</td>\n",
       "      <td>Ingresos petroleros del Gobierno Federal</td>\n",
       "      <td>Estad�sticas de Finanzas P�blicas</td>\n",
       "      <td>Sector P�blico Federal Presupuestario</td>\n",
       "      <td>54388828.94</td>\n",
       "    </tr>\n",
       "    <tr>\n",
       "      <th>2</th>\n",
       "      <td>2011</td>\n",
       "      <td>Marzo</td>\n",
       "      <td>Ingresos petroleros del Gobierno Federal</td>\n",
       "      <td>Estad�sticas de Finanzas P�blicas</td>\n",
       "      <td>Sector P�blico Federal Presupuestario</td>\n",
       "      <td>57029276.54</td>\n",
       "    </tr>\n",
       "    <tr>\n",
       "      <th>3</th>\n",
       "      <td>2011</td>\n",
       "      <td>Abril</td>\n",
       "      <td>Ingresos petroleros del Gobierno Federal</td>\n",
       "      <td>Estad�sticas de Finanzas P�blicas</td>\n",
       "      <td>Sector P�blico Federal Presupuestario</td>\n",
       "      <td>78204809.99</td>\n",
       "    </tr>\n",
       "    <tr>\n",
       "      <th>4</th>\n",
       "      <td>2011</td>\n",
       "      <td>Mayo</td>\n",
       "      <td>Ingresos petroleros del Gobierno Federal</td>\n",
       "      <td>Estad�sticas de Finanzas P�blicas</td>\n",
       "      <td>Sector P�blico Federal Presupuestario</td>\n",
       "      <td>76701991.05</td>\n",
       "    </tr>\n",
       "  </tbody>\n",
       "</table>\n",
       "</div>"
      ],
      "text/plain": [
       "   CICLO      MES                                    NOMBRE  \\\n",
       "0   2011    Enero  Ingresos petroleros del Gobierno Federal   \n",
       "1   2011  Febrero  Ingresos petroleros del Gobierno Federal   \n",
       "2   2011    Marzo  Ingresos petroleros del Gobierno Federal   \n",
       "3   2011    Abril  Ingresos petroleros del Gobierno Federal   \n",
       "4   2011     Mayo  Ingresos petroleros del Gobierno Federal   \n",
       "\n",
       "                                TEMA                                 SECTOR  \\\n",
       "0  Estad�sticas de Finanzas P�blicas  Sector P�blico Federal Presupuestario   \n",
       "1  Estad�sticas de Finanzas P�blicas  Sector P�blico Federal Presupuestario   \n",
       "2  Estad�sticas de Finanzas P�blicas  Sector P�blico Federal Presupuestario   \n",
       "3  Estad�sticas de Finanzas P�blicas  Sector P�blico Federal Presupuestario   \n",
       "4  Estad�sticas de Finanzas P�blicas  Sector P�blico Federal Presupuestario   \n",
       "\n",
       "         MONTO  \n",
       "0  71395961.50  \n",
       "1  54388828.94  \n",
       "2  57029276.54  \n",
       "3  78204809.99  \n",
       "4  76701991.05  "
      ]
     },
     "execution_count": 13,
     "metadata": {},
     "output_type": "execute_result"
    }
   ],
   "source": [
    "#%% desplegar dataP\n",
    "dataP.head()"
   ]
  },
  {
   "cell_type": "code",
   "execution_count": 14,
   "metadata": {
    "collapsed": true
   },
   "outputs": [],
   "source": [
    "#%% cual es el anio con mayor monto registrado\n",
    "group1 = dataP.groupby('CICLO')"
   ]
  },
  {
   "cell_type": "code",
   "execution_count": 15,
   "metadata": {},
   "outputs": [
    {
     "data": {
      "text/plain": [
       "CICLO\n",
       "2011    32424\n",
       "2012    32964\n",
       "2013    32766\n",
       "2014    32616\n",
       "2015    32928\n",
       "2016    32940\n",
       "2017     7608\n",
       "dtype: int64"
      ]
     },
     "execution_count": 15,
     "metadata": {},
     "output_type": "execute_result"
    }
   ],
   "source": [
    "#%% cantidad de registros para cada anio\n",
    "group1.size()"
   ]
  },
  {
   "cell_type": "code",
   "execution_count": 16,
   "metadata": {},
   "outputs": [
    {
     "data": {
      "text/html": [
       "<div>\n",
       "<style>\n",
       "    .dataframe thead tr:only-child th {\n",
       "        text-align: right;\n",
       "    }\n",
       "\n",
       "    .dataframe thead th {\n",
       "        text-align: left;\n",
       "    }\n",
       "\n",
       "    .dataframe tbody tr th {\n",
       "        vertical-align: top;\n",
       "    }\n",
       "</style>\n",
       "<table border=\"1\" class=\"dataframe\">\n",
       "  <thead>\n",
       "    <tr style=\"text-align: right;\">\n",
       "      <th></th>\n",
       "      <th>MONTO</th>\n",
       "    </tr>\n",
       "    <tr>\n",
       "      <th>CICLO</th>\n",
       "      <th></th>\n",
       "    </tr>\n",
       "  </thead>\n",
       "  <tbody>\n",
       "    <tr>\n",
       "      <th>2011</th>\n",
       "      <td>2.379621e+11</td>\n",
       "    </tr>\n",
       "    <tr>\n",
       "      <th>2012</th>\n",
       "      <td>2.738600e+11</td>\n",
       "    </tr>\n",
       "    <tr>\n",
       "      <th>2013</th>\n",
       "      <td>2.843412e+11</td>\n",
       "    </tr>\n",
       "    <tr>\n",
       "      <th>2014</th>\n",
       "      <td>2.983151e+11</td>\n",
       "    </tr>\n",
       "    <tr>\n",
       "      <th>2015</th>\n",
       "      <td>3.189862e+11</td>\n",
       "    </tr>\n",
       "    <tr>\n",
       "      <th>2016</th>\n",
       "      <td>3.541459e+11</td>\n",
       "    </tr>\n",
       "    <tr>\n",
       "      <th>2017</th>\n",
       "      <td>8.905116e+10</td>\n",
       "    </tr>\n",
       "  </tbody>\n",
       "</table>\n",
       "</div>"
      ],
      "text/plain": [
       "              MONTO\n",
       "CICLO              \n",
       "2011   2.379621e+11\n",
       "2012   2.738600e+11\n",
       "2013   2.843412e+11\n",
       "2014   2.983151e+11\n",
       "2015   3.189862e+11\n",
       "2016   3.541459e+11\n",
       "2017   8.905116e+10"
      ]
     },
     "execution_count": 16,
     "metadata": {},
     "output_type": "execute_result"
    }
   ],
   "source": [
    "#%% sumatoria de registros para cada anio\n",
    "group1.sum()"
   ]
  },
  {
   "cell_type": "code",
   "execution_count": 17,
   "metadata": {
    "collapsed": true
   },
   "outputs": [],
   "source": [
    "#%% cantidad de registros en cada mes\n",
    "group2 = dataP.groupby('MES')"
   ]
  },
  {
   "cell_type": "code",
   "execution_count": 18,
   "metadata": {},
   "outputs": [
    {
     "data": {
      "text/plain": [
       "MES\n",
       "Abril         16408\n",
       "Agosto        16365\n",
       "Diciembre     16365\n",
       "Enero         18944\n",
       "Febrero       18944\n",
       "Julio         16365\n",
       "Junio         16408\n",
       "Marzo         18944\n",
       "Mayo          16408\n",
       "Noviembre     16365\n",
       "Octubre       16365\n",
       "Septiembre    16365\n",
       "dtype: int64"
      ]
     },
     "execution_count": 18,
     "metadata": {},
     "output_type": "execute_result"
    }
   ],
   "source": [
    "#%% cantidad de registros para cada mes\n",
    "group2.size()"
   ]
  },
  {
   "cell_type": "code",
   "execution_count": 19,
   "metadata": {},
   "outputs": [
    {
     "data": {
      "text/html": [
       "<div>\n",
       "<style>\n",
       "    .dataframe thead tr:only-child th {\n",
       "        text-align: right;\n",
       "    }\n",
       "\n",
       "    .dataframe thead th {\n",
       "        text-align: left;\n",
       "    }\n",
       "\n",
       "    .dataframe tbody tr th {\n",
       "        vertical-align: top;\n",
       "    }\n",
       "</style>\n",
       "<table border=\"1\" class=\"dataframe\">\n",
       "  <thead>\n",
       "    <tr style=\"text-align: right;\">\n",
       "      <th></th>\n",
       "      <th>CICLO</th>\n",
       "      <th>MONTO</th>\n",
       "    </tr>\n",
       "    <tr>\n",
       "      <th>MES</th>\n",
       "      <th></th>\n",
       "      <th></th>\n",
       "    </tr>\n",
       "  </thead>\n",
       "  <tbody>\n",
       "    <tr>\n",
       "      <th>Abril</th>\n",
       "      <td>2013.505241</td>\n",
       "      <td>8.521493e+06</td>\n",
       "    </tr>\n",
       "    <tr>\n",
       "      <th>Agosto</th>\n",
       "      <td>2013.506569</td>\n",
       "      <td>8.400153e+06</td>\n",
       "    </tr>\n",
       "    <tr>\n",
       "      <th>Diciembre</th>\n",
       "      <td>2013.506569</td>\n",
       "      <td>1.309630e+07</td>\n",
       "    </tr>\n",
       "    <tr>\n",
       "      <th>Enero</th>\n",
       "      <td>2013.973079</td>\n",
       "      <td>9.778168e+06</td>\n",
       "    </tr>\n",
       "    <tr>\n",
       "      <th>Febrero</th>\n",
       "      <td>2013.973079</td>\n",
       "      <td>7.657616e+06</td>\n",
       "    </tr>\n",
       "    <tr>\n",
       "      <th>Julio</th>\n",
       "      <td>2013.506569</td>\n",
       "      <td>8.865271e+06</td>\n",
       "    </tr>\n",
       "    <tr>\n",
       "      <th>Junio</th>\n",
       "      <td>2013.505241</td>\n",
       "      <td>9.431059e+06</td>\n",
       "    </tr>\n",
       "    <tr>\n",
       "      <th>Marzo</th>\n",
       "      <td>2013.973079</td>\n",
       "      <td>9.054946e+06</td>\n",
       "    </tr>\n",
       "    <tr>\n",
       "      <th>Mayo</th>\n",
       "      <td>2013.505241</td>\n",
       "      <td>8.163491e+06</td>\n",
       "    </tr>\n",
       "    <tr>\n",
       "      <th>Noviembre</th>\n",
       "      <td>2013.506569</td>\n",
       "      <td>9.334717e+06</td>\n",
       "    </tr>\n",
       "    <tr>\n",
       "      <th>Octubre</th>\n",
       "      <td>2013.506569</td>\n",
       "      <td>8.402475e+06</td>\n",
       "    </tr>\n",
       "    <tr>\n",
       "      <th>Septiembre</th>\n",
       "      <td>2013.506569</td>\n",
       "      <td>8.504152e+06</td>\n",
       "    </tr>\n",
       "  </tbody>\n",
       "</table>\n",
       "</div>"
      ],
      "text/plain": [
       "                  CICLO         MONTO\n",
       "MES                                  \n",
       "Abril       2013.505241  8.521493e+06\n",
       "Agosto      2013.506569  8.400153e+06\n",
       "Diciembre   2013.506569  1.309630e+07\n",
       "Enero       2013.973079  9.778168e+06\n",
       "Febrero     2013.973079  7.657616e+06\n",
       "Julio       2013.506569  8.865271e+06\n",
       "Junio       2013.505241  9.431059e+06\n",
       "Marzo       2013.973079  9.054946e+06\n",
       "Mayo        2013.505241  8.163491e+06\n",
       "Noviembre   2013.506569  9.334717e+06\n",
       "Octubre     2013.506569  8.402475e+06\n",
       "Septiembre  2013.506569  8.504152e+06"
      ]
     },
     "execution_count": 19,
     "metadata": {},
     "output_type": "execute_result"
    }
   ],
   "source": [
    "#%% media\n",
    "group2.mean()"
   ]
  },
  {
   "cell_type": "markdown",
   "metadata": {},
   "source": [
    "La variable ciclo se despliega como una variable númerica para desplegar la media solo del monto"
   ]
  },
  {
   "cell_type": "code",
   "execution_count": 20,
   "metadata": {},
   "outputs": [
    {
     "data": {
      "text/plain": [
       "MES\n",
       "Abril         8.521493e+06\n",
       "Agosto        8.400153e+06\n",
       "Diciembre     1.309630e+07\n",
       "Enero         9.778168e+06\n",
       "Febrero       7.657616e+06\n",
       "Julio         8.865271e+06\n",
       "Junio         9.431059e+06\n",
       "Marzo         9.054946e+06\n",
       "Mayo          8.163491e+06\n",
       "Noviembre     9.334717e+06\n",
       "Octubre       8.402475e+06\n",
       "Septiembre    8.504152e+06\n",
       "Name: MONTO, dtype: float64"
      ]
     },
     "execution_count": 20,
     "metadata": {},
     "output_type": "execute_result"
    }
   ],
   "source": [
    "group2.mean()['MONTO']"
   ]
  },
  {
   "cell_type": "markdown",
   "metadata": {},
   "source": [
    "Si se desea saber cual es el mes con la media de montos mayor, basta elegi\n",
    "el máximo de los valores de las medias al ordenarlas. En este caso corresponde al mes de Diciembre"
   ]
  },
  {
   "cell_type": "code",
   "execution_count": 21,
   "metadata": {},
   "outputs": [
    {
     "data": {
      "text/plain": [
       "MES\n",
       "Diciembre    1.309630e+07\n",
       "Name: MONTO, dtype: float64"
      ]
     },
     "execution_count": 21,
     "metadata": {},
     "output_type": "execute_result"
    }
   ],
   "source": [
    "group2['MONTO'].mean().sort_values()[-1:]"
   ]
  },
  {
   "cell_type": "code",
   "execution_count": 22,
   "metadata": {
    "collapsed": true
   },
   "outputs": [],
   "source": [
    "#%% agrupamos la informacion por anio y mes para conocer como se comportan los montos\n",
    "group3 = dataP.groupby(['CICLO', 'MES'])"
   ]
  },
  {
   "cell_type": "code",
   "execution_count": 23,
   "metadata": {},
   "outputs": [
    {
     "data": {
      "text/html": [
       "<div>\n",
       "<style>\n",
       "    .dataframe thead tr:only-child th {\n",
       "        text-align: right;\n",
       "    }\n",
       "\n",
       "    .dataframe thead th {\n",
       "        text-align: left;\n",
       "    }\n",
       "\n",
       "    .dataframe tbody tr th {\n",
       "        vertical-align: top;\n",
       "    }\n",
       "</style>\n",
       "<table border=\"1\" class=\"dataframe\">\n",
       "  <thead>\n",
       "    <tr style=\"text-align: right;\">\n",
       "      <th></th>\n",
       "      <th></th>\n",
       "      <th>MONTO</th>\n",
       "    </tr>\n",
       "    <tr>\n",
       "      <th>CICLO</th>\n",
       "      <th>MES</th>\n",
       "      <th></th>\n",
       "    </tr>\n",
       "  </thead>\n",
       "  <tbody>\n",
       "    <tr>\n",
       "      <th rowspan=\"12\" valign=\"top\">2011</th>\n",
       "      <th>Abril</th>\n",
       "      <td>1.713068e+10</td>\n",
       "    </tr>\n",
       "    <tr>\n",
       "      <th>Agosto</th>\n",
       "      <td>1.829602e+10</td>\n",
       "    </tr>\n",
       "    <tr>\n",
       "      <th>Diciembre</th>\n",
       "      <td>3.108470e+10</td>\n",
       "    </tr>\n",
       "    <tr>\n",
       "      <th>Enero</th>\n",
       "      <td>1.994771e+10</td>\n",
       "    </tr>\n",
       "    <tr>\n",
       "      <th>Febrero</th>\n",
       "      <td>1.592494e+10</td>\n",
       "    </tr>\n",
       "    <tr>\n",
       "      <th>Julio</th>\n",
       "      <td>1.925813e+10</td>\n",
       "    </tr>\n",
       "    <tr>\n",
       "      <th>Junio</th>\n",
       "      <td>2.093639e+10</td>\n",
       "    </tr>\n",
       "    <tr>\n",
       "      <th>Marzo</th>\n",
       "      <td>1.797207e+10</td>\n",
       "    </tr>\n",
       "    <tr>\n",
       "      <th>Mayo</th>\n",
       "      <td>1.744671e+10</td>\n",
       "    </tr>\n",
       "    <tr>\n",
       "      <th>Noviembre</th>\n",
       "      <td>2.206084e+10</td>\n",
       "    </tr>\n",
       "    <tr>\n",
       "      <th>Octubre</th>\n",
       "      <td>1.795775e+10</td>\n",
       "    </tr>\n",
       "    <tr>\n",
       "      <th>Septiembre</th>\n",
       "      <td>1.994617e+10</td>\n",
       "    </tr>\n",
       "    <tr>\n",
       "      <th rowspan=\"12\" valign=\"top\">2012</th>\n",
       "      <th>Abril</th>\n",
       "      <td>2.012825e+10</td>\n",
       "    </tr>\n",
       "    <tr>\n",
       "      <th>Agosto</th>\n",
       "      <td>2.035841e+10</td>\n",
       "    </tr>\n",
       "    <tr>\n",
       "      <th>Diciembre</th>\n",
       "      <td>2.755660e+10</td>\n",
       "    </tr>\n",
       "    <tr>\n",
       "      <th>Enero</th>\n",
       "      <td>2.491415e+10</td>\n",
       "    </tr>\n",
       "    <tr>\n",
       "      <th>Febrero</th>\n",
       "      <td>2.002949e+10</td>\n",
       "    </tr>\n",
       "    <tr>\n",
       "      <th>Julio</th>\n",
       "      <td>2.359643e+10</td>\n",
       "    </tr>\n",
       "    <tr>\n",
       "      <th>Junio</th>\n",
       "      <td>2.558007e+10</td>\n",
       "    </tr>\n",
       "    <tr>\n",
       "      <th>Marzo</th>\n",
       "      <td>2.251921e+10</td>\n",
       "    </tr>\n",
       "    <tr>\n",
       "      <th>Mayo</th>\n",
       "      <td>2.088089e+10</td>\n",
       "    </tr>\n",
       "    <tr>\n",
       "      <th>Noviembre</th>\n",
       "      <td>2.548485e+10</td>\n",
       "    </tr>\n",
       "    <tr>\n",
       "      <th>Octubre</th>\n",
       "      <td>2.184588e+10</td>\n",
       "    </tr>\n",
       "    <tr>\n",
       "      <th>Septiembre</th>\n",
       "      <td>2.096575e+10</td>\n",
       "    </tr>\n",
       "    <tr>\n",
       "      <th rowspan=\"6\" valign=\"top\">2013</th>\n",
       "      <th>Abril</th>\n",
       "      <td>2.251555e+10</td>\n",
       "    </tr>\n",
       "    <tr>\n",
       "      <th>Agosto</th>\n",
       "      <td>1.971382e+10</td>\n",
       "    </tr>\n",
       "    <tr>\n",
       "      <th>Diciembre</th>\n",
       "      <td>3.693796e+10</td>\n",
       "    </tr>\n",
       "    <tr>\n",
       "      <th>Enero</th>\n",
       "      <td>2.361080e+10</td>\n",
       "    </tr>\n",
       "    <tr>\n",
       "      <th>Febrero</th>\n",
       "      <td>2.000657e+10</td>\n",
       "    </tr>\n",
       "    <tr>\n",
       "      <th>Julio</th>\n",
       "      <td>2.233091e+10</td>\n",
       "    </tr>\n",
       "    <tr>\n",
       "      <th>...</th>\n",
       "      <th>...</th>\n",
       "      <td>...</td>\n",
       "    </tr>\n",
       "    <tr>\n",
       "      <th rowspan=\"3\" valign=\"top\">2014</th>\n",
       "      <th>Noviembre</th>\n",
       "      <td>2.639273e+10</td>\n",
       "    </tr>\n",
       "    <tr>\n",
       "      <th>Octubre</th>\n",
       "      <td>2.529280e+10</td>\n",
       "    </tr>\n",
       "    <tr>\n",
       "      <th>Septiembre</th>\n",
       "      <td>2.459482e+10</td>\n",
       "    </tr>\n",
       "    <tr>\n",
       "      <th rowspan=\"12\" valign=\"top\">2015</th>\n",
       "      <th>Abril</th>\n",
       "      <td>2.361500e+10</td>\n",
       "    </tr>\n",
       "    <tr>\n",
       "      <th>Agosto</th>\n",
       "      <td>2.296147e+10</td>\n",
       "    </tr>\n",
       "    <tr>\n",
       "      <th>Diciembre</th>\n",
       "      <td>3.737937e+10</td>\n",
       "    </tr>\n",
       "    <tr>\n",
       "      <th>Enero</th>\n",
       "      <td>3.099193e+10</td>\n",
       "    </tr>\n",
       "    <tr>\n",
       "      <th>Febrero</th>\n",
       "      <td>2.133210e+10</td>\n",
       "    </tr>\n",
       "    <tr>\n",
       "      <th>Julio</th>\n",
       "      <td>2.648610e+10</td>\n",
       "    </tr>\n",
       "    <tr>\n",
       "      <th>Junio</th>\n",
       "      <td>2.788232e+10</td>\n",
       "    </tr>\n",
       "    <tr>\n",
       "      <th>Marzo</th>\n",
       "      <td>2.722408e+10</td>\n",
       "    </tr>\n",
       "    <tr>\n",
       "      <th>Mayo</th>\n",
       "      <td>2.406075e+10</td>\n",
       "    </tr>\n",
       "    <tr>\n",
       "      <th>Noviembre</th>\n",
       "      <td>2.926969e+10</td>\n",
       "    </tr>\n",
       "    <tr>\n",
       "      <th>Octubre</th>\n",
       "      <td>2.385168e+10</td>\n",
       "    </tr>\n",
       "    <tr>\n",
       "      <th>Septiembre</th>\n",
       "      <td>2.393168e+10</td>\n",
       "    </tr>\n",
       "    <tr>\n",
       "      <th rowspan=\"12\" valign=\"top\">2016</th>\n",
       "      <th>Abril</th>\n",
       "      <td>3.217435e+10</td>\n",
       "    </tr>\n",
       "    <tr>\n",
       "      <th>Agosto</th>\n",
       "      <td>3.424457e+10</td>\n",
       "    </tr>\n",
       "    <tr>\n",
       "      <th>Diciembre</th>\n",
       "      <td>5.061310e+10</td>\n",
       "    </tr>\n",
       "    <tr>\n",
       "      <th>Enero</th>\n",
       "      <td>2.901168e+10</td>\n",
       "    </tr>\n",
       "    <tr>\n",
       "      <th>Febrero</th>\n",
       "      <td>2.220717e+10</td>\n",
       "    </tr>\n",
       "    <tr>\n",
       "      <th>Julio</th>\n",
       "      <td>2.693395e+10</td>\n",
       "    </tr>\n",
       "    <tr>\n",
       "      <th>Junio</th>\n",
       "      <td>2.755056e+10</td>\n",
       "    </tr>\n",
       "    <tr>\n",
       "      <th>Marzo</th>\n",
       "      <td>2.580273e+10</td>\n",
       "    </tr>\n",
       "    <tr>\n",
       "      <th>Mayo</th>\n",
       "      <td>2.754414e+10</td>\n",
       "    </tr>\n",
       "    <tr>\n",
       "      <th>Noviembre</th>\n",
       "      <td>2.671752e+10</td>\n",
       "    </tr>\n",
       "    <tr>\n",
       "      <th>Octubre</th>\n",
       "      <td>2.600267e+10</td>\n",
       "    </tr>\n",
       "    <tr>\n",
       "      <th>Septiembre</th>\n",
       "      <td>2.534348e+10</td>\n",
       "    </tr>\n",
       "    <tr>\n",
       "      <th rowspan=\"3\" valign=\"top\">2017</th>\n",
       "      <th>Enero</th>\n",
       "      <td>2.992876e+10</td>\n",
       "    </tr>\n",
       "    <tr>\n",
       "      <th>Febrero</th>\n",
       "      <td>2.453859e+10</td>\n",
       "    </tr>\n",
       "    <tr>\n",
       "      <th>Marzo</th>\n",
       "      <td>3.458380e+10</td>\n",
       "    </tr>\n",
       "  </tbody>\n",
       "</table>\n",
       "<p>75 rows × 1 columns</p>\n",
       "</div>"
      ],
      "text/plain": [
       "                         MONTO\n",
       "CICLO MES                     \n",
       "2011  Abril       1.713068e+10\n",
       "      Agosto      1.829602e+10\n",
       "      Diciembre   3.108470e+10\n",
       "      Enero       1.994771e+10\n",
       "      Febrero     1.592494e+10\n",
       "      Julio       1.925813e+10\n",
       "      Junio       2.093639e+10\n",
       "      Marzo       1.797207e+10\n",
       "      Mayo        1.744671e+10\n",
       "      Noviembre   2.206084e+10\n",
       "      Octubre     1.795775e+10\n",
       "      Septiembre  1.994617e+10\n",
       "2012  Abril       2.012825e+10\n",
       "      Agosto      2.035841e+10\n",
       "      Diciembre   2.755660e+10\n",
       "      Enero       2.491415e+10\n",
       "      Febrero     2.002949e+10\n",
       "      Julio       2.359643e+10\n",
       "      Junio       2.558007e+10\n",
       "      Marzo       2.251921e+10\n",
       "      Mayo        2.088089e+10\n",
       "      Noviembre   2.548485e+10\n",
       "      Octubre     2.184588e+10\n",
       "      Septiembre  2.096575e+10\n",
       "2013  Abril       2.251555e+10\n",
       "      Agosto      1.971382e+10\n",
       "      Diciembre   3.693796e+10\n",
       "      Enero       2.361080e+10\n",
       "      Febrero     2.000657e+10\n",
       "      Julio       2.233091e+10\n",
       "...                        ...\n",
       "2014  Noviembre   2.639273e+10\n",
       "      Octubre     2.529280e+10\n",
       "      Septiembre  2.459482e+10\n",
       "2015  Abril       2.361500e+10\n",
       "      Agosto      2.296147e+10\n",
       "      Diciembre   3.737937e+10\n",
       "      Enero       3.099193e+10\n",
       "      Febrero     2.133210e+10\n",
       "      Julio       2.648610e+10\n",
       "      Junio       2.788232e+10\n",
       "      Marzo       2.722408e+10\n",
       "      Mayo        2.406075e+10\n",
       "      Noviembre   2.926969e+10\n",
       "      Octubre     2.385168e+10\n",
       "      Septiembre  2.393168e+10\n",
       "2016  Abril       3.217435e+10\n",
       "      Agosto      3.424457e+10\n",
       "      Diciembre   5.061310e+10\n",
       "      Enero       2.901168e+10\n",
       "      Febrero     2.220717e+10\n",
       "      Julio       2.693395e+10\n",
       "      Junio       2.755056e+10\n",
       "      Marzo       2.580273e+10\n",
       "      Mayo        2.754414e+10\n",
       "      Noviembre   2.671752e+10\n",
       "      Octubre     2.600267e+10\n",
       "      Septiembre  2.534348e+10\n",
       "2017  Enero       2.992876e+10\n",
       "      Febrero     2.453859e+10\n",
       "      Marzo       3.458380e+10\n",
       "\n",
       "[75 rows x 1 columns]"
      ]
     },
     "execution_count": 23,
     "metadata": {},
     "output_type": "execute_result"
    }
   ],
   "source": [
    "#%% vemos el valor de la suma de los montos\n",
    "group3.sum()"
   ]
  },
  {
   "cell_type": "code",
   "execution_count": 24,
   "metadata": {},
   "outputs": [
    {
     "data": {
      "text/html": [
       "<div>\n",
       "<style>\n",
       "    .dataframe thead tr:only-child th {\n",
       "        text-align: right;\n",
       "    }\n",
       "\n",
       "    .dataframe thead th {\n",
       "        text-align: left;\n",
       "    }\n",
       "\n",
       "    .dataframe tbody tr th {\n",
       "        vertical-align: top;\n",
       "    }\n",
       "</style>\n",
       "<table border=\"1\" class=\"dataframe\">\n",
       "  <thead>\n",
       "    <tr style=\"text-align: right;\">\n",
       "      <th></th>\n",
       "      <th></th>\n",
       "      <th>MONTO</th>\n",
       "    </tr>\n",
       "    <tr>\n",
       "      <th>CICLO</th>\n",
       "      <th>MES</th>\n",
       "      <th></th>\n",
       "    </tr>\n",
       "  </thead>\n",
       "  <tbody>\n",
       "    <tr>\n",
       "      <th>2016</th>\n",
       "      <th>Agosto</th>\n",
       "      <td>3.424457e+10</td>\n",
       "    </tr>\n",
       "    <tr>\n",
       "      <th>2017</th>\n",
       "      <th>Marzo</th>\n",
       "      <td>3.458380e+10</td>\n",
       "    </tr>\n",
       "    <tr>\n",
       "      <th>2013</th>\n",
       "      <th>Diciembre</th>\n",
       "      <td>3.693796e+10</td>\n",
       "    </tr>\n",
       "    <tr>\n",
       "      <th>2015</th>\n",
       "      <th>Diciembre</th>\n",
       "      <td>3.737937e+10</td>\n",
       "    </tr>\n",
       "    <tr>\n",
       "      <th>2016</th>\n",
       "      <th>Diciembre</th>\n",
       "      <td>5.061310e+10</td>\n",
       "    </tr>\n",
       "  </tbody>\n",
       "</table>\n",
       "</div>"
      ],
      "text/plain": [
       "                        MONTO\n",
       "CICLO MES                    \n",
       "2016  Agosto     3.424457e+10\n",
       "2017  Marzo      3.458380e+10\n",
       "2013  Diciembre  3.693796e+10\n",
       "2015  Diciembre  3.737937e+10\n",
       "2016  Diciembre  5.061310e+10"
      ]
     },
     "execution_count": 24,
     "metadata": {},
     "output_type": "execute_result"
    }
   ],
   "source": [
    "#%% para elegir los 5 registros con los montos mas altos, hacemos la siguiente seleccion al group3\n",
    "group3.sum().sort_values(by='MONTO')[-5:]"
   ]
  },
  {
   "cell_type": "markdown",
   "metadata": {},
   "source": [
    "Se puede revisar como se comporta por CICLO y SECTOR, elegimos los 15 registros con valor mas alto en la suma de su MONTO"
   ]
  },
  {
   "cell_type": "code",
   "execution_count": 25,
   "metadata": {},
   "outputs": [
    {
     "data": {
      "image/png": "[encoded data removed]",
      "text/plain": [
       "<matplotlib.figure.Figure at 0x105b90c88>"
      ]
     },
     "metadata": {},
     "output_type": "display_data"
    }
   ],
   "source": [
    "group4 = dataP.groupby(['CICLO', 'SECTOR']).sum().sort_values(by='MONTO')[-15:].plot(kind='bar')"
   ]
  },
  {
   "cell_type": "code",
   "execution_count": 26,
   "metadata": {},
   "outputs": [
    {
     "data": {
      "text/html": [
       "<div>\n",
       "<style>\n",
       "    .dataframe thead tr:only-child th {\n",
       "        text-align: right;\n",
       "    }\n",
       "\n",
       "    .dataframe thead th {\n",
       "        text-align: left;\n",
       "    }\n",
       "\n",
       "    .dataframe tbody tr th {\n",
       "        vertical-align: top;\n",
       "    }\n",
       "</style>\n",
       "<table border=\"1\" class=\"dataframe\">\n",
       "  <thead>\n",
       "    <tr style=\"text-align: right;\">\n",
       "      <th></th>\n",
       "      <th>size</th>\n",
       "      <th>sum</th>\n",
       "      <th>max</th>\n",
       "      <th>min</th>\n",
       "    </tr>\n",
       "    <tr>\n",
       "      <th>CICLO</th>\n",
       "      <th></th>\n",
       "      <th></th>\n",
       "      <th></th>\n",
       "      <th></th>\n",
       "    </tr>\n",
       "  </thead>\n",
       "  <tbody>\n",
       "    <tr>\n",
       "      <th>2011</th>\n",
       "      <td>32424.0</td>\n",
       "      <td>2.379621e+11</td>\n",
       "      <td>544852555.6</td>\n",
       "      <td>-143436924.4</td>\n",
       "    </tr>\n",
       "    <tr>\n",
       "      <th>2012</th>\n",
       "      <td>32964.0</td>\n",
       "      <td>2.738600e+11</td>\n",
       "      <td>498997561.0</td>\n",
       "      <td>-198748691.3</td>\n",
       "    </tr>\n",
       "    <tr>\n",
       "      <th>2013</th>\n",
       "      <td>32766.0</td>\n",
       "      <td>2.843412e+11</td>\n",
       "      <td>607273345.4</td>\n",
       "      <td>-143636953.9</td>\n",
       "    </tr>\n",
       "    <tr>\n",
       "      <th>2014</th>\n",
       "      <td>32616.0</td>\n",
       "      <td>2.983151e+11</td>\n",
       "      <td>513922357.1</td>\n",
       "      <td>-223804440.5</td>\n",
       "    </tr>\n",
       "    <tr>\n",
       "      <th>2015</th>\n",
       "      <td>32928.0</td>\n",
       "      <td>3.189862e+11</td>\n",
       "      <td>624748976.6</td>\n",
       "      <td>-178267800.3</td>\n",
       "    </tr>\n",
       "    <tr>\n",
       "      <th>2016</th>\n",
       "      <td>32940.0</td>\n",
       "      <td>3.541459e+11</td>\n",
       "      <td>829740171.0</td>\n",
       "      <td>-305468720.1</td>\n",
       "    </tr>\n",
       "    <tr>\n",
       "      <th>2017</th>\n",
       "      <td>7608.0</td>\n",
       "      <td>8.905116e+10</td>\n",
       "      <td>729628152.5</td>\n",
       "      <td>-523277461.1</td>\n",
       "    </tr>\n",
       "  </tbody>\n",
       "</table>\n",
       "</div>"
      ],
      "text/plain": [
       "          size           sum          max          min\n",
       "CICLO                                                 \n",
       "2011   32424.0  2.379621e+11  544852555.6 -143436924.4\n",
       "2012   32964.0  2.738600e+11  498997561.0 -198748691.3\n",
       "2013   32766.0  2.843412e+11  607273345.4 -143636953.9\n",
       "2014   32616.0  2.983151e+11  513922357.1 -223804440.5\n",
       "2015   32928.0  3.189862e+11  624748976.6 -178267800.3\n",
       "2016   32940.0  3.541459e+11  829740171.0 -305468720.1\n",
       "2017    7608.0  8.905116e+10  729628152.5 -523277461.1"
      ]
     },
     "execution_count": 26,
     "metadata": {},
     "output_type": "execute_result"
    }
   ],
   "source": [
    "#%% mostrar cantidad, sumatoria, max y min en valores\n",
    "group1['MONTO'].agg([np.size, sum, max, min])"
   ]
  },
  {
   "cell_type": "code",
   "execution_count": 27,
   "metadata": {},
   "outputs": [
    {
     "data": {
      "text/plain": [
       "<matplotlib.axes._subplots.AxesSubplot at 0x10c55a278>"
      ]
     },
     "execution_count": 27,
     "metadata": {},
     "output_type": "execute_result"
    },
    {
     "data": {
      "image/png": "[encoded data removed]",
      "text/plain": [
       "<matplotlib.figure.Figure at 0x114505fd0>"
      ]
     },
     "metadata": {},
     "output_type": "display_data"
    }
   ],
   "source": [
    "#%% comparativo entre maximo y minimo\n",
    "group1['MONTO'].agg([max, min]).plot(kind='bar')"
   ]
  },
  {
   "cell_type": "code",
   "execution_count": 28,
   "metadata": {},
   "outputs": [
    {
     "data": {
      "text/html": [
       "<div>\n",
       "<style>\n",
       "    .dataframe thead tr:only-child th {\n",
       "        text-align: right;\n",
       "    }\n",
       "\n",
       "    .dataframe thead th {\n",
       "        text-align: left;\n",
       "    }\n",
       "\n",
       "    .dataframe tbody tr th {\n",
       "        vertical-align: top;\n",
       "    }\n",
       "</style>\n",
       "<table border=\"1\" class=\"dataframe\">\n",
       "  <thead>\n",
       "    <tr style=\"text-align: right;\">\n",
       "      <th></th>\n",
       "      <th>max</th>\n",
       "      <th>min</th>\n",
       "      <th>mean</th>\n",
       "    </tr>\n",
       "    <tr>\n",
       "      <th>MES</th>\n",
       "      <th></th>\n",
       "      <th></th>\n",
       "      <th></th>\n",
       "    </tr>\n",
       "  </thead>\n",
       "  <tbody>\n",
       "    <tr>\n",
       "      <th>Abril</th>\n",
       "      <td>627817621.5</td>\n",
       "      <td>-275600730.7</td>\n",
       "      <td>8.521493e+06</td>\n",
       "    </tr>\n",
       "    <tr>\n",
       "      <th>Agosto</th>\n",
       "      <td>515823707.8</td>\n",
       "      <td>-172637591.9</td>\n",
       "      <td>8.400153e+06</td>\n",
       "    </tr>\n",
       "    <tr>\n",
       "      <th>Diciembre</th>\n",
       "      <td>829740171.0</td>\n",
       "      <td>-305468720.1</td>\n",
       "      <td>1.309630e+07</td>\n",
       "    </tr>\n",
       "    <tr>\n",
       "      <th>Enero</th>\n",
       "      <td>459975868.9</td>\n",
       "      <td>-120080152.5</td>\n",
       "      <td>9.778168e+06</td>\n",
       "    </tr>\n",
       "    <tr>\n",
       "      <th>Febrero</th>\n",
       "      <td>354891740.3</td>\n",
       "      <td>-130934274.6</td>\n",
       "      <td>7.657616e+06</td>\n",
       "    </tr>\n",
       "    <tr>\n",
       "      <th>Julio</th>\n",
       "      <td>412318159.7</td>\n",
       "      <td>-126137660.6</td>\n",
       "      <td>8.865271e+06</td>\n",
       "    </tr>\n",
       "    <tr>\n",
       "      <th>Junio</th>\n",
       "      <td>514365469.1</td>\n",
       "      <td>-189351217.3</td>\n",
       "      <td>9.431059e+06</td>\n",
       "    </tr>\n",
       "    <tr>\n",
       "      <th>Marzo</th>\n",
       "      <td>729628152.5</td>\n",
       "      <td>-523277461.1</td>\n",
       "      <td>9.054946e+06</td>\n",
       "    </tr>\n",
       "    <tr>\n",
       "      <th>Mayo</th>\n",
       "      <td>431353098.5</td>\n",
       "      <td>-126366330.7</td>\n",
       "      <td>8.163491e+06</td>\n",
       "    </tr>\n",
       "    <tr>\n",
       "      <th>Noviembre</th>\n",
       "      <td>415936617.0</td>\n",
       "      <td>-155483633.1</td>\n",
       "      <td>9.334717e+06</td>\n",
       "    </tr>\n",
       "    <tr>\n",
       "      <th>Octubre</th>\n",
       "      <td>372933878.0</td>\n",
       "      <td>-113466716.6</td>\n",
       "      <td>8.402475e+06</td>\n",
       "    </tr>\n",
       "    <tr>\n",
       "      <th>Septiembre</th>\n",
       "      <td>380570506.1</td>\n",
       "      <td>-107707087.0</td>\n",
       "      <td>8.504152e+06</td>\n",
       "    </tr>\n",
       "  </tbody>\n",
       "</table>\n",
       "</div>"
      ],
      "text/plain": [
       "                    max          min          mean\n",
       "MES                                               \n",
       "Abril       627817621.5 -275600730.7  8.521493e+06\n",
       "Agosto      515823707.8 -172637591.9  8.400153e+06\n",
       "Diciembre   829740171.0 -305468720.1  1.309630e+07\n",
       "Enero       459975868.9 -120080152.5  9.778168e+06\n",
       "Febrero     354891740.3 -130934274.6  7.657616e+06\n",
       "Julio       412318159.7 -126137660.6  8.865271e+06\n",
       "Junio       514365469.1 -189351217.3  9.431059e+06\n",
       "Marzo       729628152.5 -523277461.1  9.054946e+06\n",
       "Mayo        431353098.5 -126366330.7  8.163491e+06\n",
       "Noviembre   415936617.0 -155483633.1  9.334717e+06\n",
       "Octubre     372933878.0 -113466716.6  8.402475e+06\n",
       "Septiembre  380570506.1 -107707087.0  8.504152e+06"
      ]
     },
     "execution_count": 28,
     "metadata": {},
     "output_type": "execute_result"
    }
   ],
   "source": [
    "#%% se explora como se comporta la agrupacion por mes, mediante una grafica de barras\n",
    "group2['MONTO'].agg([max, min, np.mean])"
   ]
  },
  {
   "cell_type": "markdown",
   "metadata": {},
   "source": [
    "Los datos originales permiten explorar graficamente como se relacionan los valores de los montos con respecto a los meses"
   ]
  },
  {
   "cell_type": "code",
   "execution_count": 29,
   "metadata": {},
   "outputs": [
    {
     "data": {
      "text/plain": [
       "<matplotlib.axes._subplots.AxesSubplot at 0x1114b1cc0>"
      ]
     },
     "execution_count": 29,
     "metadata": {},
     "output_type": "execute_result"
    },
    {
     "data": {
      "image/png": "[encoded data removed]",
      "text/plain": [
       "<matplotlib.figure.Figure at 0x111492b70>"
      ]
     },
     "metadata": {},
     "output_type": "display_data"
    }
   ],
   "source": [
    "sns.barplot(data=dataP, x='MES', y='MONTO', palette='PRGn')"
   ]
  },
  {
   "cell_type": "code",
   "execution_count": 30,
   "metadata": {
    "scrolled": true
   },
   "outputs": [
    {
     "data": {
      "text/plain": [
       "<matplotlib.axes._subplots.AxesSubplot at 0x11372af60>"
      ]
     },
     "execution_count": 30,
     "metadata": {},
     "output_type": "execute_result"
    },
    {
     "data": {
      "image/png": "[encoded data removed]",
      "text/plain": [
       "<matplotlib.figure.Figure at 0x1138175c0>"
      ]
     },
     "metadata": {},
     "output_type": "display_data"
    }
   ],
   "source": [
    "#%% explorar los datos agrupados por anio-mes\n",
    "group3['MONTO'].agg([max, min, np.mean]).plot(title='Comportamiento de la suma de los montos')"
   ]
  }
 ],
 "metadata": {
  "kernelspec": {
   "display_name": "Python 3",
   "language": "python",
   "name": "python3"
  },
  "language_info": {
   "codemirror_mode": {
    "name": "ipython",
    "version": 3
   },
   "file_extension": ".py",
   "mimetype": "text/x-python",
   "name": "python",
   "nbconvert_exporter": "python",
   "pygments_lexer": "ipython3",
   "version": "3.6.2"
  }
 },
 "nbformat": 4,
 "nbformat_minor": 2
}
